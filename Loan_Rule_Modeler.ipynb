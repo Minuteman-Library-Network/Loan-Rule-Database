{
  "nbformat": 4,
  "nbformat_minor": 0,
  "metadata": {
    "colab": {
      "name": "Loan Rule Modeler.ipynb",
      "provenance": [],
      "collapsed_sections": [],
      "authorship_tag": "ABX9TyODMCsFbTsTc0zKIZdn2P1s",
      "include_colab_link": true
    },
    "kernelspec": {
      "name": "python3",
      "display_name": "Python 3"
    },
    "language_info": {
      "name": "python"
    }
  },
  "cells": [
    {
      "cell_type": "markdown",
      "metadata": {
        "id": "view-in-github",
        "colab_type": "text"
      },
      "source": [
        "<a href=\"https://colab.research.google.com/github/Minuteman-Library-Network/Loan-Rule-Database/blob/main/Loan_Rule_Modeler.ipynb\" target=\"_parent\"><img src=\"https://colab.research.google.com/assets/colab-badge.svg\" alt=\"Open In Colab\"/></a>"
      ]
    },
    {
      "cell_type": "markdown",
      "source": [
        "Jeremy Goldstein Minuteman Library Network\n",
        "\n",
        "This Python script is intended to help test the loan rule determiner in Sierra to ensure that checkouts are being assigned to the expected loan rule.\n",
        "\n",
        "The script uses a database containing an extract of the loan rule and loan rule determiner tables, which is updated regularly via a manual process so may not reflect recent changes."
      ],
      "metadata": {
        "id": "O6mS7MvDp1EM"
      }
    },
    {
      "cell_type": "markdown",
      "source": [
        "# Instructions"
      ],
      "metadata": {
        "id": "a-8bHNPVrdZM"
      }
    },
    {
      "cell_type": "markdown",
      "source": [
        "Running the script\n",
        "\n",
        "Each code block can be run one at a time by clicking the play icon that appears when you hover over the [] marker. Once that block finishes running a green check will appear to the left of the block and any output from that portion of the script will appear beneath it, along with any errors that may be encountered.\n",
        "\n",
        "You may also use the \"Run All\" function, found within the Runtime drop down menu to Run the entire script, though there are points where user input is required before the script will continue past a particular code block to be on the lookout for, these are indicated by the words \"Action Required\".\n",
        "\n",
        "You may reset the output by going to the Edit menu and selecting clear all outputs."
      ],
      "metadata": {
        "id": "0wCgohYGrkQ7"
      }
    },
    {
      "cell_type": "markdown",
      "source": [
        "# Step 1: Configure Python/Colab Environment"
      ],
      "metadata": {
        "id": "BcflDBC3sfqy"
      }
    },
    {
      "cell_type": "markdown",
      "source": [
        "import Python libraries that will be used within the script"
      ],
      "metadata": {
        "id": "5dA0EEZGsopL"
      }
    },
    {
      "cell_type": "markdown",
      "source": [
        "**Action Required** The first time during a session in which you run the script you will have to grant permission for the script to access your Google Drive.  This is so that it may retrieve the loan rule database stored in the Minuteman Document Center."
      ],
      "metadata": {
        "id": "2ygvqNBHsuOo"
      }
    },
    {
      "cell_type": "code",
      "execution_count": null,
      "metadata": {
        "id": "y2becZHSkyh2",
        "cellView": "form"
      },
      "outputs": [],
      "source": [
        "#@title\n",
        "import sqlite3\n",
        "import pandas as pd\n",
        "from google.colab import drive\n",
        "drive.mount('/gdrive')\n",
        "%cd /gdrive"
      ]
    },
    {
      "cell_type": "markdown",
      "source": [
        "# Step 2: Select Your Parameters"
      ],
      "metadata": {
        "id": "HbzRgtv1tiGm"
      }
    },
    {
      "cell_type": "markdown",
      "source": [
        "**Action Required** Select a combination of [item type](https://docs.google.com/document/d/1s29TgiBwwQvs-_jX4a4exgiGdpMucgX-2SWRlCB4C24/edit?usp=sharing), [patron type](https://docs.google.com/document/d/11I7VX4rAC3KC5-26vJH8kszwvGMxK3b_EgMKtaU1Pz0/edit?usp=sharing) and checkout location from the drop down menus below.  Ptype 9999 represents any ptype.\n",
        "\n",
        "Once the code block has been run, you may change your menu selections without having to click on run again.  However you will need to rerun the code block for Step 3."
      ],
      "metadata": {
        "id": "unusl_7wtn4S"
      }
    },
    {
      "cell_type": "code",
      "source": [
        "#@title Select an iType, pType and Checkout Location { run: \"auto\", vertical-output: true, display-mode: \"form\" }\n",
        "itype = '0' #@param [\"0\",\"1\",\"2\",\"3\",\"4\",\"5\",\"6\",\"7\",\"8\",\"9\",\"10\",\"11\",\"12\",\"13\",\"19\",\"20\",\"21\",\"22\",\"23\",\"24\",\"25\",\"26\",\"27\",\"28\",\"29\",\"30\",\"31\",\"32\",\"33\",\"34\",\"35\",\"36\",\"37\",\"38\",\"39\",\"40\",\"41\",\"42\",\"43\",\"44\",\"45\",\"46\",\"47\",\"48\",\"50\",\"51\",\"52\",\"100\",\"101\",\"102\",\"103\",\"104\",\"105\",\"106\",\"107\",\"108\",\"109\",\"113\",\"114\",\"115\",\"116\",\"117\",\"118\",\"119\",\"120\",\"121\",\"122\",\"123\",\"124\",\"125\",\"126\",\"127\",\"128\",\"129\",\"130\",\"131\",\"132\",\"133\",\"150\",\"151\",\"152\",\"153\",\"154\",\"155\",\"156\",\"157\",\"158\",\"159\",\"160\",\"163\",\"164\",\"165\",\"166\",\"167\",\"168\",\"169\",\"170\",\"171\",\"172\",\"173\",\"174\",\"175\",\"176\",\"177\",\"178\",\"179\",\"180\",\"181\",\"182\",\"183\",\"221\",\"222\",\"223\",\"224\",\"239\",\"241\",\"242\",\"243\",\"244\",\"245\",\"246\",\"247\",\"248\",\"249\",\"250\",\"251\",\"252\",\"253\",\"255\"]\n",
        "ptype = '9999' #@param [\"9999\",\"1\",\"2\",\"3\",\"4\",\"5\",\"6\",\"7\",\"8\",\"9\",\"10\",\"11\",\"12\",\"13\",\"14\",\"15\",\"16\",\"17\",\"18\",\"20\",\"21\",\"22\",\"23\",\"24\",\"26\",\"27\",\"29\",\"30\",\"31\",\"32\",\"33\",\"34\",\"35\",\"36\",\"37\",\"38\",\"39\",\"40\",\"41\",\"42\",\"43\",\"44\",\"45\",\"46\",\"47\",\"106\",\"110\",\"115\",\"116\",\"117\",\"120\",\"121\",\"122\",\"126\",\"129\",\"130\",\"133\",\"137\",\"141\",\"147\",\"159\",\"163\",\"166\",\"175\",\"194\",\"195\",\"197\",\"199\",\"200\",\"201\",\"202\",\"203\",\"204\",\"205\",\"206\",\"207\",\"254\",\"255\"]\n",
        "location = 'act' #@param [\"act\",\"arl\",\"ash\",\"bed\",\"blm\",\"brk\",\"cam\",\"con\",\"ddm\",\"dea\",\"dov\",\"fpl\",\"frk\",\"fst\",\"hol\",\"las\",\"lex\",\"lin\",\"may\",\"med\",\"mil\",\"mld\",\"mls\",\"mwy\",\"nat\",\"nee\",\"nor\",\"ntn\",\"oln\",\"pmc\",\"reg\",\"shr\",\"som\",\"sto\",\"sud\",\"wat\",\"wel\",\"win\",\"wlm\",\"wob\",\"wsn\",\"wwd\",\"wyl\"]"
      ],
      "metadata": {
        "id": "xh_SRqmd3LPT"
      },
      "execution_count": null,
      "outputs": []
    },
    {
      "cell_type": "markdown",
      "source": [
        "# Step 3: Result"
      ],
      "metadata": {
        "id": "BBcyiwd6v8KA"
      }
    },
    {
      "cell_type": "markdown",
      "source": [
        "Run this last code block to query the loan rule database and see the loan rule used by your selected combination of itype, ptype and checkout location."
      ],
      "metadata": {
        "id": "GMMNzjDaFD18"
      }
    },
    {
      "cell_type": "code",
      "source": [
        "#@title\n",
        "loan_rules = '/gdrive/Shareddrives/SIC Document Center/Reports and Reporting Tools/loan_rules.db'\n",
        "\n",
        "try:\n",
        "    sqliteConnection = sqlite3.connect(loan_rules)\n",
        "    cursor = sqliteConnection.cursor()\n",
        "    \n",
        "    sql_query = \"\"\"\n",
        "                SELECT *\n",
        "                FROM(\n",
        "                SELECT\n",
        "                l.LoanRuleNum,\n",
        "\t\t\t\t        l.name,\n",
        "                d.id,\n",
        "                d.location,\n",
        "                d.itype,\n",
        "                d.ptype,\n",
        "\t\t\t\t        CASE\n",
        "\t\t\t        \t\tWHEN l.code = 'R' THEN 'R-Days'\n",
        "\t\t\t        \t\tWHEN l.code = 'K' THEN 'K-Hours no overnight'\n",
        "\t\t\t        \t\tWHEN l.code = 'J' THEN 'J-Hours overnight'\n",
        "\t\t\t        \t\tWHEN l.code = 'N' THEN 'N-Non-circulating'\n",
        "\t\t\t        \t\tWHEN l.code = 'I' THEN 'I-Hours rounded to minute'\n",
        "\t\t\t        \tEND AS 'code',\n",
        "                l.NormalLoanPeriod,\n",
        "                l.Holdable,\n",
        "\t\t\t\t        l.MaxNumberOfRenewals,\n",
        "\t\t\t        \tl.GracePeriodForFines,\n",
        "                CASE\n",
        "\t\t\t\t        \tWHEN l.GracePeriodForFines = '0' THEN l.AmountOfFine1stFPer\n",
        "\t\t\t\t        \tELSE l.AmountOfFine2NDFPer\n",
        "                END AS AmountOfFine,\n",
        "\t\t\t\t        CASE\n",
        "\t\t\t\t        \tWHEN l.GracePeriodForFines = '0' THEN l.NumberOfDHR1stFPer\n",
        "\t\t\t\t\t        ELSE l.NumberOfDHR2ndFPer\n",
        "                END AS LengthOfFinePeriod,\n",
        "\t\t\t\t        l.DefaultItemCost\n",
        "\n",
        "                FROM\n",
        "                determiner_expanded d\n",
        "                JOIN\n",
        "                loan_rule l\n",
        "                ON\n",
        "                d.rule_number = l.LoanRuleNum\n",
        "                WHERE \n",
        "                d.itype IN('\"\"\"+ itype +\"\"\"','9999') \n",
        "                AND (d.location LIKE substr('\"\"\"+ location +\"\"\"',1,2)||'%' OR d.location = '?????')\n",
        "                AND d.ptype IN ('\"\"\"+ ptype +\"\"\"','9999')\n",
        "                )a\n",
        "                ORDER BY a.id DESC\n",
        "                LIMIT 1\n",
        "                \"\"\"\n",
        "    cursor.execute(sql_query)\n",
        "    sqliteConnection.commit()\n",
        "    loan_rows = cursor.fetchall()\n",
        "    cursor.close()\n",
        "except sqlite3.Error as error:\n",
        "    print(\"Failed to run query\", error)\n",
        "\n",
        "column_names = [\"LoanRuleNum\",\"Name\",\"DeterminerNum\",\"Location\",\"IType\",\"PType\",\"Code\",\"NormalLoanPeriod\",\"Holdable\",\"MaxNumberOfRenewals\",\"GracePeriodForFines\",\"AmtOfFine\",\"LengthOfFinePeriod\",\"DefaultItemCost\"]\n",
        "loan_df = pd.DataFrame(loan_rows, columns=column_names)\n",
        "print('Here is the loan rule used for this checkout:')\n",
        "loan_df"
      ],
      "metadata": {
        "id": "VTKpHBKsn9aw",
        "cellView": "form"
      },
      "execution_count": null,
      "outputs": []
    }
  ]
}